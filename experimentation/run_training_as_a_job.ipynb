{
  "cells": [
    {
      "cell_type": "code",
      "source": [
        "#connect to workspace\n",
        "from azure.identity import DefaultAzureCredential, InteractiveBrowserCredential\n",
        "from azure.ai.ml import MLClient\n",
        "\n",
        "try:\n",
        "    credential = DefaultAzureCredential()\n",
        "    # Check if given credential can get token successfully.\n",
        "    credential.get_token(\"https://management.azure.com/.default\")\n",
        "except Exception as ex:\n",
        "    # Fall back to InteractiveBrowserCredential in case DefaultAzureCredential not work\n",
        "    credential = InteractiveBrowserCredential()\n",
        "\n",
        "ml_client = MLClient.from_config(credential=credential)\n",
        "\n",
        "#create folder data asset\n",
        "\n",
        "#create YML job"
      ],
      "outputs": [
        {
          "output_type": "stream",
          "name": "stderr",
          "text": "Found the config file in: /config.json\n"
        }
      ],
      "execution_count": 8,
      "metadata": {
        "gather": {
          "logged": 1698074422903
        }
      }
    },
    {
      "cell_type": "code",
      "source": [
        "#create a data store\n",
        "\n",
        "from azure.ai.ml.entities import AzureBlobDatastore\n",
        "from azure.ai.ml.entities import AccountKeyConfiguration\n",
        "\n",
        "store = AzureBlobDatastore(\n",
        "    name=\"blob_training_data\",\n",
        "    description=\"Blob Storage for training data\",\n",
        "    account_name=\"mlwdp100storage329b87c49\",\n",
        "    container_name=\"training-data\", \n",
        "    credentials=AccountKeyConfiguration(\n",
        "        account_key=\"b8SsPqbnqD9xItF9FaJDvNfpCGZLnQExzn2R0jmXzmk/vS3kYcD2Fv9IGdcoVJNZte4GkP0vx83W+AStTXP2gg==\"\n",
        "    ),\n",
        ")\n",
        "\n",
        "ml_client.create_or_update(store)"
      ],
      "outputs": [],
      "execution_count": null,
      "metadata": {
        "jupyter": {
          "source_hidden": false,
          "outputs_hidden": false
        },
        "nteract": {
          "transient": {
            "deleting": false
          }
        },
        "gather": {
          "logged": 1698074119031
        }
      }
    },
    {
      "cell_type": "code",
      "source": [
        "from azure.ai.ml.entities import Data\n",
        "from azure.ai.ml.constants import AssetTypes\n",
        "\n",
        "datastore_path = 'azureml://datastores/blob_training_data/paths/data-asset-path/'\n",
        "\n",
        "my_data = Data(\n",
        "    path=datastore_path,\n",
        "    type=AssetTypes.URI_FOLDER,\n",
        "    description=\"Data asset pointing to data-asset-path folder in datastore\",\n",
        "    name=\"diabetes-datastore-path-1\"\n",
        ")\n",
        "\n",
        "ml_client.data.create_or_update(my_data)"
      ],
      "outputs": [
        {
          "output_type": "execute_result",
          "execution_count": 17,
          "data": {
            "text/plain": "Data({'skip_validation': False, 'mltable_schema_url': None, 'referenced_uris': None, 'type': 'uri_folder', 'is_anonymous': False, 'auto_increment_version': False, 'auto_delete_setting': None, 'name': 'diabetes-datastore-path-1', 'description': 'Data asset pointing to data-asset-path folder in datastore', 'tags': {}, 'properties': {}, 'print_as_yaml': True, 'id': '/subscriptions/48e1f4ed-3278-4f6d-bebe-7ada1dd8404c/resourceGroups/rg-dp100-lb152eb03e5604ef2af/providers/Microsoft.MachineLearningServices/workspaces/mlw-dp100-lb152eb03e5604ef2af/data/diabetes-datastore-path-1/versions/1', 'Resource__source_path': None, 'base_path': '/mnt/batch/tasks/shared/LS_root/mounts/clusters/cib152eb03e5604ef2af/code/Users/zbelgoum987/mlops_worflow/experimentation', 'creation_context': <azure.ai.ml.entities._system_data.SystemData object at 0x7f1e6ca42100>, 'serialize': <msrest.serialization.Serializer object at 0x7f1e6ca42070>, 'version': '1', 'latest_version': None, 'path': 'azureml://subscriptions/48e1f4ed-3278-4f6d-bebe-7ada1dd8404c/resourcegroups/rg-dp100-lb152eb03e5604ef2af/workspaces/mlw-dp100-lb152eb03e5604ef2af/datastores/blob_training_data/paths/data-asset-path/', 'datastore': None})"
          },
          "metadata": {}
        }
      ],
      "execution_count": 17,
      "metadata": {
        "jupyter": {
          "source_hidden": false,
          "outputs_hidden": false
        },
        "nteract": {
          "transient": {
            "deleting": false
          }
        },
        "gather": {
          "logged": 1698075198857
        }
      }
    },
    {
      "cell_type": "code",
      "source": [
        "from azure.ai.ml.entities import Data\n",
        "from azure.ai.ml.constants import AssetTypes\n",
        "\n",
        "datastore_path = './data'\n",
        "\n",
        "my_data = Data(\n",
        "    path=datastore_path,\n",
        "    type=AssetTypes.URI_FOLDER,\n",
        "    description=\"Data asset pointing to data-asset-path folder in datastore\",\n",
        "    name=\"diabetes-datastore-path\"\n",
        ")\n",
        "\n",
        "ml_client.data.create_or_update(my_data)"
      ],
      "outputs": [
        {
          "output_type": "execute_result",
          "execution_count": 11,
          "data": {
            "text/plain": "Data({'skip_validation': False, 'mltable_schema_url': None, 'referenced_uris': None, 'type': 'uri_folder', 'is_anonymous': False, 'auto_increment_version': False, 'auto_delete_setting': None, 'name': 'diabetes-datastore-path', 'description': 'Data asset pointing to data-asset-path folder in datastore', 'tags': {}, 'properties': {}, 'print_as_yaml': True, 'id': '/subscriptions/48e1f4ed-3278-4f6d-bebe-7ada1dd8404c/resourceGroups/rg-dp100-lb152eb03e5604ef2af/providers/Microsoft.MachineLearningServices/workspaces/mlw-dp100-lb152eb03e5604ef2af/data/diabetes-datastore-path/versions/3', 'Resource__source_path': None, 'base_path': '/mnt/batch/tasks/shared/LS_root/mounts/clusters/cib152eb03e5604ef2af/code/Users/zbelgoum987/mlops_worflow/experimentation', 'creation_context': <azure.ai.ml.entities._system_data.SystemData object at 0x7f1ea4071160>, 'serialize': <msrest.serialization.Serializer object at 0x7f1e72100310>, 'version': '3', 'latest_version': None, 'path': 'azureml://subscriptions/48e1f4ed-3278-4f6d-bebe-7ada1dd8404c/resourcegroups/rg-dp100-lb152eb03e5604ef2af/workspaces/mlw-dp100-lb152eb03e5604ef2af/datastores/workspaceblobstore/paths/LocalUpload/400365f4042298f4168ec4d39f55289b/data/', 'datastore': None})"
          },
          "metadata": {}
        }
      ],
      "execution_count": 11,
      "metadata": {
        "jupyter": {
          "source_hidden": false,
          "outputs_hidden": false
        },
        "nteract": {
          "transient": {
            "deleting": false
          }
        },
        "gather": {
          "logged": 1698074632827
        }
      }
    },
    {
      "cell_type": "code",
      "source": [
        "import mltable\n",
        "from azure.ai.ml import MLClient\n",
        "from azure.identity import DefaultAzureCredential\n",
        "\n",
        "ml_client = MLClient.from_config(credential=DefaultAzureCredential())\n",
        "data_asset = ml_client.data.get(\"diabetes-datastore-path\", version=\"2\")\n",
        "\n",
        "print(data_asset.path)\n",
        "\n",
        "path = {\n",
        "  'file': data_asset.path + \"diabetes-dev.csv\"\n",
        "}\n",
        "\n",
        "tbl = mltable.from_delimited_files(paths=[path])\n",
        "df = tbl.to_pandas_dataframe()\n",
        "df"
      ],
      "outputs": [
        {
          "output_type": "stream",
          "name": "stderr",
          "text": "Found the config file in: /config.json\n"
        },
        {
          "output_type": "stream",
          "name": "stdout",
          "text": "azureml://subscriptions/48e1f4ed-3278-4f6d-bebe-7ada1dd8404c/resourcegroups/rg-dp100-lb152eb03e5604ef2af/workspaces/mlw-dp100-lb152eb03e5604ef2af/datastores/workspaceblobstore/paths/LocalUpload/400365f4042298f4168ec4d39f55289b/data/\n"
        },
        {
          "output_type": "execute_result",
          "execution_count": 16,
          "data": {
            "text/plain": "      PatientID  Pregnancies  PlasmaGlucose  DiastolicBloodPressure  \\\n0       1142956            1             78                      41   \n1       1823377            0            116                      92   \n2       1916381            8            171                      42   \n3       1247480            3            108                      63   \n4       1516947            8            153                      99   \n...         ...          ...            ...                     ...   \n4995    1490300           10             65                      60   \n4996    1744410            2             73                      66   \n4997    1742742            0             93                      89   \n4998    1099353            0            132                      98   \n4999    1386396            3            114                      65   \n\n      TricepsThickness  SerumInsulin        BMI  DiabetesPedigree  Age  \\\n0                   33           311  50.796392          0.420804   24   \n1                   16           184  18.603630          0.131156   22   \n2                   29           160  35.482247          0.082671   22   \n3                   45           297  49.375169          0.100979   46   \n4                   15            41  35.062139          0.116191   22   \n...                ...           ...        ...               ...  ...   \n4995                46           177  33.512468          0.148327   41   \n4996                27           168  30.132636          0.862252   38   \n4997                43            57  18.690683          0.427049   24   \n4998                18           161  19.791645          0.302257   23   \n4999                47           512  36.215437          0.147363   34   \n\n      Diabetic  \n0        False  \n1        False  \n2         True  \n3         True  \n4         True  \n...        ...  \n4995      True  \n4996      True  \n4997     False  \n4998     False  \n4999      True  \n\n[5000 rows x 10 columns]",
            "text/html": "<div>\n<style scoped>\n    .dataframe tbody tr th:only-of-type {\n        vertical-align: middle;\n    }\n\n    .dataframe tbody tr th {\n        vertical-align: top;\n    }\n\n    .dataframe thead th {\n        text-align: right;\n    }\n</style>\n<table border=\"1\" class=\"dataframe\">\n  <thead>\n    <tr style=\"text-align: right;\">\n      <th></th>\n      <th>PatientID</th>\n      <th>Pregnancies</th>\n      <th>PlasmaGlucose</th>\n      <th>DiastolicBloodPressure</th>\n      <th>TricepsThickness</th>\n      <th>SerumInsulin</th>\n      <th>BMI</th>\n      <th>DiabetesPedigree</th>\n      <th>Age</th>\n      <th>Diabetic</th>\n    </tr>\n  </thead>\n  <tbody>\n    <tr>\n      <th>0</th>\n      <td>1142956</td>\n      <td>1</td>\n      <td>78</td>\n      <td>41</td>\n      <td>33</td>\n      <td>311</td>\n      <td>50.796392</td>\n      <td>0.420804</td>\n      <td>24</td>\n      <td>False</td>\n    </tr>\n    <tr>\n      <th>1</th>\n      <td>1823377</td>\n      <td>0</td>\n      <td>116</td>\n      <td>92</td>\n      <td>16</td>\n      <td>184</td>\n      <td>18.603630</td>\n      <td>0.131156</td>\n      <td>22</td>\n      <td>False</td>\n    </tr>\n    <tr>\n      <th>2</th>\n      <td>1916381</td>\n      <td>8</td>\n      <td>171</td>\n      <td>42</td>\n      <td>29</td>\n      <td>160</td>\n      <td>35.482247</td>\n      <td>0.082671</td>\n      <td>22</td>\n      <td>True</td>\n    </tr>\n    <tr>\n      <th>3</th>\n      <td>1247480</td>\n      <td>3</td>\n      <td>108</td>\n      <td>63</td>\n      <td>45</td>\n      <td>297</td>\n      <td>49.375169</td>\n      <td>0.100979</td>\n      <td>46</td>\n      <td>True</td>\n    </tr>\n    <tr>\n      <th>4</th>\n      <td>1516947</td>\n      <td>8</td>\n      <td>153</td>\n      <td>99</td>\n      <td>15</td>\n      <td>41</td>\n      <td>35.062139</td>\n      <td>0.116191</td>\n      <td>22</td>\n      <td>True</td>\n    </tr>\n    <tr>\n      <th>...</th>\n      <td>...</td>\n      <td>...</td>\n      <td>...</td>\n      <td>...</td>\n      <td>...</td>\n      <td>...</td>\n      <td>...</td>\n      <td>...</td>\n      <td>...</td>\n      <td>...</td>\n    </tr>\n    <tr>\n      <th>4995</th>\n      <td>1490300</td>\n      <td>10</td>\n      <td>65</td>\n      <td>60</td>\n      <td>46</td>\n      <td>177</td>\n      <td>33.512468</td>\n      <td>0.148327</td>\n      <td>41</td>\n      <td>True</td>\n    </tr>\n    <tr>\n      <th>4996</th>\n      <td>1744410</td>\n      <td>2</td>\n      <td>73</td>\n      <td>66</td>\n      <td>27</td>\n      <td>168</td>\n      <td>30.132636</td>\n      <td>0.862252</td>\n      <td>38</td>\n      <td>True</td>\n    </tr>\n    <tr>\n      <th>4997</th>\n      <td>1742742</td>\n      <td>0</td>\n      <td>93</td>\n      <td>89</td>\n      <td>43</td>\n      <td>57</td>\n      <td>18.690683</td>\n      <td>0.427049</td>\n      <td>24</td>\n      <td>False</td>\n    </tr>\n    <tr>\n      <th>4998</th>\n      <td>1099353</td>\n      <td>0</td>\n      <td>132</td>\n      <td>98</td>\n      <td>18</td>\n      <td>161</td>\n      <td>19.791645</td>\n      <td>0.302257</td>\n      <td>23</td>\n      <td>False</td>\n    </tr>\n    <tr>\n      <th>4999</th>\n      <td>1386396</td>\n      <td>3</td>\n      <td>114</td>\n      <td>65</td>\n      <td>47</td>\n      <td>512</td>\n      <td>36.215437</td>\n      <td>0.147363</td>\n      <td>34</td>\n      <td>True</td>\n    </tr>\n  </tbody>\n</table>\n<p>5000 rows × 10 columns</p>\n</div>"
          },
          "metadata": {}
        }
      ],
      "execution_count": 16,
      "metadata": {
        "jupyter": {
          "source_hidden": false,
          "outputs_hidden": false
        },
        "nteract": {
          "transient": {
            "deleting": false
          }
        },
        "gather": {
          "logged": 1698075047851
        }
      }
    },
    {
      "cell_type": "code",
      "source": [],
      "outputs": [],
      "execution_count": null,
      "metadata": {
        "jupyter": {
          "source_hidden": false,
          "outputs_hidden": false
        },
        "nteract": {
          "transient": {
            "deleting": false
          }
        }
      }
    }
  ],
  "metadata": {
    "kernelspec": {
      "name": "python38-azureml",
      "language": "python",
      "display_name": "Python 3.8 - AzureML"
    },
    "language_info": {
      "name": "python",
      "version": "3.8.5",
      "mimetype": "text/x-python",
      "codemirror_mode": {
        "name": "ipython",
        "version": 3
      },
      "pygments_lexer": "ipython3",
      "nbconvert_exporter": "python",
      "file_extension": ".py"
    },
    "microsoft": {
      "ms_spell_check": {
        "ms_spell_check_language": "en"
      },
      "host": {
        "AzureML": {
          "notebookHasBeenCompleted": true
        }
      }
    },
    "kernel_info": {
      "name": "python38-azureml"
    },
    "nteract": {
      "version": "nteract-front-end@1.0.0"
    }
  },
  "nbformat": 4,
  "nbformat_minor": 2
}